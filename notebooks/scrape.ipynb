{
 "cells": [
  {
   "cell_type": "code",
   "execution_count": 10,
   "id": "b259a24a",
   "metadata": {},
   "outputs": [
    {
     "name": "stderr",
     "output_type": "stream",
     "text": [
      "Server sent a very old message with ID 7517960076677195777, ignoring (see FAQ for details)\n",
      "Server closed the connection: [WinError 10054] An existing connection was forcibly closed by the remote host\n",
      "Server resent the older message 7517978984481753089, ignoring\n"
     ]
    },
    {
     "name": "stdout",
     "output_type": "stream",
     "text": [
      "✅ Scraped 1000 messages. CSV saved to: ../data/telegram_with_images.csv\n"
     ]
    },
    {
     "name": "stderr",
     "output_type": "stream",
     "text": [
      "Cannot get difference since the account is likely misusing the session: database is locked\n"
     ]
    }
   ],
   "source": [
    "import os\n",
    "import pandas as pd\n",
    "from telethon import TelegramClient\n",
    "from telethon.tl.types import MessageMediaPhoto\n",
    "\n",
    "# Replace with your own\n",
    "api_id = 23570923\n",
    "api_hash = 'bdb0b505ac1d71272ffcafcc506c6dfe'\n",
    "\n",
    "client = TelegramClient('ethioMartSession', api_id, api_hash)\n",
    "\n",
    "# Replace these with real, public, active channels\n",
    "channels = ['@helloomarketethiopia','@ethio_brand_collection', '@Shewabrand','@forfreemarket','@kuruwear']  # Add more channels here\n",
    "output_csv = '../data/telegram_with_images.csv'\n",
    "base_media_dir = '../data/images_by_channel'\n",
    "\n",
    "os.makedirs(base_media_dir, exist_ok=True)\n",
    "\n",
    "async def scrape_messages():\n",
    "    data = []\n",
    "    await client.start()\n",
    "\n",
    "    for channel in channels:\n",
    "        safe_channel_name = channel.strip('@')\n",
    "        channel_dir = os.path.join(base_media_dir, safe_channel_name)\n",
    "        os.makedirs(channel_dir, exist_ok=True)\n",
    "\n",
    "        try:\n",
    "            async for message in client.iter_messages(channel, limit=200):\n",
    "                img_path = ''\n",
    "                if message.media and isinstance(message.media, MessageMediaPhoto):\n",
    "                    try:\n",
    "                        file_name = f\"{safe_channel_name}_{message.id}.jpg\"\n",
    "                        file_path = os.path.join(channel_dir, file_name)\n",
    "                        await message.download_media(file_path)\n",
    "                        img_path = file_path\n",
    "                    except Exception as e:\n",
    "                        print(f\"⚠️ Failed to download image for {channel}: {e}\")\n",
    "\n",
    "                row = {\n",
    "                    'channel': channel,\n",
    "                    'timestamp': message.date.strftime('%Y-%m-%d %H:%M:%S') if message.date else '',\n",
    "                    'text': message.message or '',\n",
    "                    'image_path': img_path\n",
    "                }\n",
    "                data.append(row)\n",
    "\n",
    "        except Exception as e:\n",
    "            print(f\"❌ Skipping {channel}: {e}\")\n",
    "\n",
    "    # Save all results to CSV\n",
    "    df = pd.DataFrame(data)\n",
    "    df.to_csv(output_csv, index=False, encoding='utf-8-sig')\n",
    "    print(f\"✅ Scraped {len(df)} messages. CSV saved to: {output_csv}\")\n",
    "\n",
    "# Run the async function (in Jupyter or async environment)\n",
    "import asyncio\n",
    "await scrape_messages()\n"
   ]
  }
 ],
 "metadata": {
  "kernelspec": {
   "display_name": ".venv",
   "language": "python",
   "name": "python3"
  },
  "language_info": {
   "codemirror_mode": {
    "name": "ipython",
    "version": 3
   },
   "file_extension": ".py",
   "mimetype": "text/x-python",
   "name": "python",
   "nbconvert_exporter": "python",
   "pygments_lexer": "ipython3",
   "version": "3.12.3"
  }
 },
 "nbformat": 4,
 "nbformat_minor": 5
}
