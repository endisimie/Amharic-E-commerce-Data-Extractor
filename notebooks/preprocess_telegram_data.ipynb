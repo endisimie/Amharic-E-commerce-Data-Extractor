{
 "cells": [
  {
   "cell_type": "code",
   "execution_count": null,
   "id": "10ac99b7",
   "metadata": {},
   "outputs": [
    {
     "name": "stderr",
     "output_type": "stream",
     "text": [
      "c:\\Users\\Administrator\\Desktop\\10 Acadamy\\week4\\Amharic-E-commerce-Data-Extractor\\.venv\\Lib\\site-packages\\tqdm\\auto.py:21: TqdmWarning: IProgress not found. Please update jupyter and ipywidgets. See https://ipywidgets.readthedocs.io/en/stable/user_install.html\n",
      "  from .autonotebook import tqdm as notebook_tqdm\n",
      "None of PyTorch, TensorFlow >= 2.0, or Flax have been found. Models won't be available and only tokenizers, configuration and file/data utilities can be used.\n",
      "c:\\Users\\Administrator\\Desktop\\10 Acadamy\\week4\\Amharic-E-commerce-Data-Extractor\\.venv\\Lib\\site-packages\\huggingface_hub\\file_download.py:143: UserWarning: `huggingface_hub` cache-system uses symlinks by default to efficiently store duplicated files but your machine does not support them in C:\\Users\\Administrator\\.cache\\huggingface\\hub\\models--xlm-roberta-large. Caching files will still work but in a degraded version that might require more space on your disk. This warning can be disabled by setting the `HF_HUB_DISABLE_SYMLINKS_WARNING` environment variable. For more details, see https://huggingface.co/docs/huggingface_hub/how-to-cache#limitations.\n",
      "To support symlinks on Windows, you either need to activate Developer Mode or to run Python as an administrator. In order to activate developer mode, see this article: https://docs.microsoft.com/en-us/windows/apps/get-started/enable-your-device-for-development\n",
      "  warnings.warn(message)\n"
     ]
    },
    {
     "name": "stdout",
     "output_type": "stream",
     "text": [
      "✅ Preprocessed and saved structured data to: ../data/preprocessed_telegram_data4.csv\n"
     ]
    }
   ],
   "source": [
    "import pandas as pd\n",
    "import re\n",
    "from transformers import AutoTokenizer\n",
    "from transformers import XLMRobertaTokenizer, XLMRobertaModel\n",
    "\n",
    "# Load AfroXLMR tokenizer (supports Amharic)\n",
    "#tokenizer = AutoTokenizer.from_pretrained(\"Davlan/afro-xlmr-bert-base\")\n",
    "#from transformers import AutoTokenizer\n",
    "\n",
    "# Use a valid model\n",
    "model_name = \"rasyosef/roberta-base-amharic\"\n",
    "tokenizer = AutoTokenizer.from_pretrained(model_name)\n",
    "\n",
    "# Load tokenizer and model\n",
    "# Input file from the previous step\n",
    "input_csv = '../data/telegram_with_images.csv'\n",
    "output_csv = '../data/preprocessed_telegram_data3.csv'\n",
    "\n",
    "# Amharic text cleaner\n",
    "def clean_amharic_text(text):\n",
    "    if not isinstance(text, str):\n",
    "        return \"\"\n",
    "    # Remove emojis and non-Amharic characters\n",
    "    text = re.sub(r\"[^\\u1200-\\u137F0-9፩-፷.,!?@/\\s]\", \"\", text)\n",
    "    # Normalize spaces and punctuation\n",
    "    text = re.sub(r\"\\s+\", \" \", text).strip()\n",
    "    return text\n",
    "\n",
    "# Tokenize text using AfroXLMR tokenizer\n",
    "def tokenize_amharic_text(text):\n",
    "    return tokenizer.tokenize(text)\n",
    "\n",
    "# Load the CSV\n",
    "df = pd.read_csv(input_csv)\n",
    "\n",
    "# Clean and tokenize\n",
    "df['clean_text'] = df['text'].apply(clean_amharic_text)\n",
    "df['tokens'] = df['clean_text'].apply(tokenize_amharic_text)\n",
    "\n",
    "# Keep only relevant structured columns\n",
    "structured_df = df[['channel', 'timestamp', 'clean_text', 'tokens', 'image_path']]\n",
    "\n",
    "# Save structured data\n",
    "structured_df.to_csv(output_csv, index=False, encoding='utf-8-sig')\n",
    "print(f\"✅ Preprocessed and saved structured data to: {output_csv}\")"
   ]
  },
  {
   "cell_type": "code",
   "execution_count": 2,
   "id": "fb9c93e9",
   "metadata": {},
   "outputs": [
    {
     "name": "stdout",
     "output_type": "stream",
     "text": [
      "✅ Sample file created: amharic_ner_sample.conll (30 messages, ready for labeling)\n"
     ]
    }
   ],
   "source": [
    "\n",
    "# Load your cleaned + tokenized data\n",
    "df = pd.read_csv(\"../data/preprocessed_telegram_data.csv\")\n",
    "\n",
    "# Sample 30 messages\n",
    "sampled_df = df.sample(n=30, random_state=42)\n",
    "\n",
    "# Output file in CoNLL format\n",
    "output_path = \"amharic_ner_sample.conll\"\n",
    "\n",
    "# Write to CoNLL format\n",
    "with open(output_path, 'w', encoding='utf-8') as f:\n",
    "    for _, row in sampled_df.iterrows():\n",
    "        tokens = eval(row['tokens'])  # stored as string in CSV\n",
    "        for token in tokens:\n",
    "            f.write(f\"{token} O\\n\")  # Default label \"O\" (to be manually changed)\n",
    "        f.write(\"\\n\")  # Blank line to separate messages\n",
    "\n",
    "print(f\"✅ Sample file created: {output_path} (30 messages, ready for labeling)\")\n"
   ]
  }
 ],
 "metadata": {
  "kernelspec": {
   "display_name": ".venv",
   "language": "python",
   "name": "python3"
  },
  "language_info": {
   "codemirror_mode": {
    "name": "ipython",
    "version": 3
   },
   "file_extension": ".py",
   "mimetype": "text/x-python",
   "name": "python",
   "nbconvert_exporter": "python",
   "pygments_lexer": "ipython3",
   "version": "3.12.3"
  }
 },
 "nbformat": 4,
 "nbformat_minor": 5
}
