{
 "cells": [
  {
   "cell_type": "markdown",
   "id": "0aaa1a56",
   "metadata": {},
   "source": [
    "Model Comparison & Selection has been created and saved as Task4 Model Comparison. \n",
    "It includes:\n",
    "\n",
    "Fine-tuning 4 models (afro-xlmr-base, xlm-roberta-base, bert-base-amharic, mBERT)\n",
    "\n",
    "Automatic tokenization and label alignment\n",
    "\n",
    "Evaluation on F1, precision, recall, training time\n",
    "\n",
    "Sorted summary table + optional bar plot for visual comparison"
   ]
  },
  {
   "cell_type": "code",
   "execution_count": 7,
   "id": "a95d73c5",
   "metadata": {},
   "outputs": [
    {
     "name": "stdout",
     "output_type": "stream",
     "text": [
      "\n",
      "🔍 Evaluating model: afro-xlmr-base\n"
     ]
    },
    {
     "name": "stderr",
     "output_type": "stream",
     "text": [
      "Some weights of XLMRobertaForTokenClassification were not initialized from the model checkpoint at Davlan/afro-xlmr-base and are newly initialized: ['classifier.bias', 'classifier.weight']\n",
      "You should probably TRAIN this model on a down-stream task to be able to use it for predictions and inference.\n",
      "Map: 100%|██████████| 17/17 [00:00<00:00, 1000.02 examples/s]\n",
      "Map: 100%|██████████| 5/5 [00:00<00:00, 2501.37 examples/s]\n",
      "C:\\Users\\Administrator\\AppData\\Local\\Temp\\ipykernel_20040\\319111613.py:89: FutureWarning: `tokenizer` is deprecated and will be removed in version 5.0.0 for `Trainer.__init__`. Use `processing_class` instead.\n",
      "  trainer = Trainer(\n"
     ]
    },
    {
     "data": {
      "text/html": [
       "\n",
       "    <div>\n",
       "      \n",
       "      <progress value='10' max='10' style='width:300px; height:20px; vertical-align: middle;'></progress>\n",
       "      [10/10 01:16, Epoch 5/5]\n",
       "    </div>\n",
       "    <table border=\"1\" class=\"dataframe\">\n",
       "  <thead>\n",
       " <tr style=\"text-align: left;\">\n",
       "      <th>Step</th>\n",
       "      <th>Training Loss</th>\n",
       "    </tr>\n",
       "  </thead>\n",
       "  <tbody>\n",
       "  </tbody>\n",
       "</table><p>"
      ],
      "text/plain": [
       "<IPython.core.display.HTML object>"
      ]
     },
     "metadata": {},
     "output_type": "display_data"
    },
    {
     "name": "stderr",
     "output_type": "stream",
     "text": [
      "c:\\Users\\Administrator\\Desktop\\10 Acadamy\\week4\\Amharic-E-commerce-Data-Extractor\\.venv\\Lib\\site-packages\\torch\\utils\\data\\dataloader.py:665: UserWarning: 'pin_memory' argument is set as true but no accelerator is found, then device pinned memory won't be used.\n",
      "  warnings.warn(warn_msg)\n"
     ]
    },
    {
     "data": {
      "text/html": [],
      "text/plain": [
       "<IPython.core.display.HTML object>"
      ]
     },
     "metadata": {},
     "output_type": "display_data"
    },
    {
     "name": "stdout",
     "output_type": "stream",
     "text": [
      "\n",
      "🔍 Evaluating model: xlm-roberta-base\n"
     ]
    },
    {
     "name": "stderr",
     "output_type": "stream",
     "text": [
      "Some weights of XLMRobertaForTokenClassification were not initialized from the model checkpoint at xlm-roberta-base and are newly initialized: ['classifier.bias', 'classifier.weight']\n",
      "You should probably TRAIN this model on a down-stream task to be able to use it for predictions and inference.\n",
      "Map: 100%|██████████| 17/17 [00:00<00:00, 518.15 examples/s]\n",
      "Map: 100%|██████████| 5/5 [00:00<00:00, 3166.95 examples/s]\n",
      "C:\\Users\\Administrator\\AppData\\Local\\Temp\\ipykernel_20040\\319111613.py:89: FutureWarning: `tokenizer` is deprecated and will be removed in version 5.0.0 for `Trainer.__init__`. Use `processing_class` instead.\n",
      "  trainer = Trainer(\n"
     ]
    },
    {
     "data": {
      "text/html": [
       "\n",
       "    <div>\n",
       "      \n",
       "      <progress value='10' max='10' style='width:300px; height:20px; vertical-align: middle;'></progress>\n",
       "      [10/10 01:19, Epoch 5/5]\n",
       "    </div>\n",
       "    <table border=\"1\" class=\"dataframe\">\n",
       "  <thead>\n",
       " <tr style=\"text-align: left;\">\n",
       "      <th>Step</th>\n",
       "      <th>Training Loss</th>\n",
       "    </tr>\n",
       "  </thead>\n",
       "  <tbody>\n",
       "  </tbody>\n",
       "</table><p>"
      ],
      "text/plain": [
       "<IPython.core.display.HTML object>"
      ]
     },
     "metadata": {},
     "output_type": "display_data"
    },
    {
     "name": "stderr",
     "output_type": "stream",
     "text": [
      "c:\\Users\\Administrator\\Desktop\\10 Acadamy\\week4\\Amharic-E-commerce-Data-Extractor\\.venv\\Lib\\site-packages\\torch\\utils\\data\\dataloader.py:665: UserWarning: 'pin_memory' argument is set as true but no accelerator is found, then device pinned memory won't be used.\n",
      "  warnings.warn(warn_msg)\n"
     ]
    },
    {
     "data": {
      "text/html": [],
      "text/plain": [
       "<IPython.core.display.HTML object>"
      ]
     },
     "metadata": {},
     "output_type": "display_data"
    },
    {
     "name": "stdout",
     "output_type": "stream",
     "text": [
      "\n",
      "🔍 Evaluating model: bert-base-multilingual-cased\n"
     ]
    },
    {
     "name": "stderr",
     "output_type": "stream",
     "text": [
      "c:\\Users\\Administrator\\Desktop\\10 Acadamy\\week4\\Amharic-E-commerce-Data-Extractor\\.venv\\Lib\\site-packages\\huggingface_hub\\file_download.py:143: UserWarning: `huggingface_hub` cache-system uses symlinks by default to efficiently store duplicated files but your machine does not support them in C:\\Users\\Administrator\\.cache\\huggingface\\hub\\models--bert-base-multilingual-cased. Caching files will still work but in a degraded version that might require more space on your disk. This warning can be disabled by setting the `HF_HUB_DISABLE_SYMLINKS_WARNING` environment variable. For more details, see https://huggingface.co/docs/huggingface_hub/how-to-cache#limitations.\n",
      "To support symlinks on Windows, you either need to activate Developer Mode or to run Python as an administrator. In order to activate developer mode, see this article: https://docs.microsoft.com/en-us/windows/apps/get-started/enable-your-device-for-development\n",
      "  warnings.warn(message)\n",
      "Some weights of BertForTokenClassification were not initialized from the model checkpoint at bert-base-multilingual-cased and are newly initialized: ['classifier.bias', 'classifier.weight']\n",
      "You should probably TRAIN this model on a down-stream task to be able to use it for predictions and inference.\n",
      "Map: 100%|██████████| 17/17 [00:00<00:00, 1148.61 examples/s]\n",
      "Map: 100%|██████████| 5/5 [00:00<00:00, 650.42 examples/s]\n",
      "C:\\Users\\Administrator\\AppData\\Local\\Temp\\ipykernel_20040\\319111613.py:89: FutureWarning: `tokenizer` is deprecated and will be removed in version 5.0.0 for `Trainer.__init__`. Use `processing_class` instead.\n",
      "  trainer = Trainer(\n"
     ]
    },
    {
     "data": {
      "text/html": [
       "\n",
       "    <div>\n",
       "      \n",
       "      <progress value='10' max='10' style='width:300px; height:20px; vertical-align: middle;'></progress>\n",
       "      [10/10 00:47, Epoch 5/5]\n",
       "    </div>\n",
       "    <table border=\"1\" class=\"dataframe\">\n",
       "  <thead>\n",
       " <tr style=\"text-align: left;\">\n",
       "      <th>Step</th>\n",
       "      <th>Training Loss</th>\n",
       "    </tr>\n",
       "  </thead>\n",
       "  <tbody>\n",
       "  </tbody>\n",
       "</table><p>"
      ],
      "text/plain": [
       "<IPython.core.display.HTML object>"
      ]
     },
     "metadata": {},
     "output_type": "display_data"
    },
    {
     "name": "stderr",
     "output_type": "stream",
     "text": [
      "c:\\Users\\Administrator\\Desktop\\10 Acadamy\\week4\\Amharic-E-commerce-Data-Extractor\\.venv\\Lib\\site-packages\\torch\\utils\\data\\dataloader.py:665: UserWarning: 'pin_memory' argument is set as true but no accelerator is found, then device pinned memory won't be used.\n",
      "  warnings.warn(warn_msg)\n"
     ]
    },
    {
     "data": {
      "text/html": [],
      "text/plain": [
       "<IPython.core.display.HTML object>"
      ]
     },
     "metadata": {},
     "output_type": "display_data"
    },
    {
     "name": "stdout",
     "output_type": "stream",
     "text": [
      "\n",
      "\n",
      "📊 Model Comparison Results:\n",
      "                          model  precision  recall   f1  training_time\n",
      "0                afro-xlmr-base        1.0     1.0  1.0      91.326871\n",
      "1              xlm-roberta-base        1.0     1.0  1.0      95.776718\n",
      "2  bert-base-multilingual-cased        1.0     1.0  1.0      57.942450\n"
     ]
    },
    {
     "data": {
      "image/png": "[encoded data removed]",
      "text/plain": [
       "<Figure size 1000x500 with 1 Axes>"
      ]
     },
     "metadata": {},
     "output_type": "display_data"
    }
   ],
   "source": [
    "# Task 4: Model Comparison & Selection for Amharic NER\n",
    "\n",
    "import numpy as np\n",
    "import pandas as pd\n",
    "from evaluate import load\n",
    "from datasets import Dataset\n",
    "from transformers import (AutoTokenizer, AutoModelForTokenClassification,\n",
    "                          DataCollatorForTokenClassification, TrainingArguments, Trainer)\n",
    "from seqeval.metrics import classification_report\n",
    "import matplotlib.pyplot as plt\n",
    "import time\n",
    "#AutoTokenizer.from_pretrained(\"Geotrend/bert-base-amharic\")\n",
    "\n",
    "# ------------------- Global Setup -------------------\n",
    "conll_file_path = \"amharic_ner_sample.conll\"\n",
    "models_to_compare = {\n",
    "    \"afro-xlmr-base\": \"Davlan/afro-xlmr-base\",\n",
    "    \"xlm-roberta-base\": \"xlm-roberta-base\",\n",
    "    \n",
    "    \"bert-base-multilingual-cased\": \"bert-base-multilingual-cased\"\n",
    "}\n",
    "\n",
    "# ------------------- Data Loading -------------------\n",
    "def parse_conll(filepath):\n",
    "    sentences, tags = [], []\n",
    "    with open(filepath, encoding='utf-8') as f:\n",
    "        tokens, ner_tags = [], []\n",
    "        for line in f:\n",
    "            if line.strip() == '':\n",
    "                if tokens:\n",
    "                    sentences.append(tokens)\n",
    "                    tags.append(ner_tags)\n",
    "                    tokens, ner_tags = [], []\n",
    "            else:\n",
    "                splits = line.strip().split()\n",
    "                if len(splits) >= 2:\n",
    "                    tokens.append(splits[0])\n",
    "                    ner_tags.append(splits[1])\n",
    "    return Dataset.from_dict({\"tokens\": sentences, \"ner_tags\": tags})\n",
    "\n",
    "dataset = parse_conll(conll_file_path)\n",
    "unique_tags = sorted(set(tag for doc in dataset[\"ner_tags\"] for tag in doc))\n",
    "label2id = {label: i for i, label in enumerate(unique_tags)}\n",
    "id2label = {i: label for label, i in label2id.items()}\n",
    "\n",
    "# ------------------- Tokenization & Alignment -------------------\n",
    "def tokenize_and_align(example, tokenizer):\n",
    "    tokenized = tokenizer(example['tokens'], truncation=True, is_split_into_words=True)\n",
    "    word_ids = tokenized.word_ids()\n",
    "    label_ids = []\n",
    "    prev_word_id = None\n",
    "    for word_id in word_ids:\n",
    "        if word_id is None:\n",
    "            label_ids.append(-100)\n",
    "        elif word_id != prev_word_id:\n",
    "            label_ids.append(label2id[example['ner_tags'][word_id]])\n",
    "        else:\n",
    "            tag = example['ner_tags'][word_id]\n",
    "            if tag.startswith(\"B-\"): tag = tag.replace(\"B-\", \"I-\")\n",
    "            label_ids.append(label2id[tag])\n",
    "        prev_word_id = word_id\n",
    "    tokenized['labels'] = label_ids\n",
    "    return tokenized\n",
    "\n",
    "# ------------------- Training & Evaluation -------------------\n",
    "results = []\n",
    "split_data = dataset.train_test_split(test_size=0.2)\n",
    "train_dataset, eval_dataset = split_data['train'], split_data['test']\n",
    "\n",
    "for model_name, model_path in models_to_compare.items():\n",
    "    print(f\"\\n🔍 Evaluating model: {model_name}\")\n",
    "    tokenizer = AutoTokenizer.from_pretrained(model_path)\n",
    "    model = AutoModelForTokenClassification.from_pretrained(\n",
    "        model_path, num_labels=len(label2id), id2label=id2label, label2id=label2id\n",
    "    )\n",
    "\n",
    "    tokenized_train = train_dataset.map(lambda x: tokenize_and_align(x, tokenizer))\n",
    "    tokenized_eval = eval_dataset.map(lambda x: tokenize_and_align(x, tokenizer))\n",
    "\n",
    "    args = TrainingArguments(\n",
    "    output_dir=\"./amharic_ner_model\",\n",
    "    learning_rate=2e-5,\n",
    "    per_device_train_batch_size=16,\n",
    "    num_train_epochs=5,\n",
    "    weight_decay=0.01,\n",
    "    logging_dir=\"./logs\"\n",
    ")\n",
    "\n",
    "    trainer = Trainer(\n",
    "        model=model,\n",
    "        args=args,\n",
    "        train_dataset=tokenized_train,\n",
    "        eval_dataset=tokenized_eval,\n",
    "        tokenizer=tokenizer,\n",
    "        data_collator=DataCollatorForTokenClassification(tokenizer)\n",
    "    )\n",
    "\n",
    "    start_time = time.time()\n",
    "    trainer.train()\n",
    "    training_time = time.time() - start_time\n",
    "\n",
    "    preds, labels, _ = trainer.predict(tokenized_eval)\n",
    "    pred_labels = np.argmax(preds, axis=2)\n",
    "\n",
    "    true_preds = [[id2label[l] for p, l in zip(pred_seq, label_seq) if l != -100]\n",
    "                  for pred_seq, label_seq in zip(pred_labels, labels)]\n",
    "    true_labels = [[id2label[l] for p, l in zip(pred_seq, label_seq) if l != -100]\n",
    "                   for pred_seq, label_seq in zip(pred_labels, labels)]\n",
    "\n",
    "    report = classification_report(true_labels, true_preds, output_dict=True)\n",
    "    results.append({\n",
    "        \"model\": model_name,\n",
    "        \"precision\": report['macro avg']['precision'],\n",
    "        \"recall\": report['macro avg']['recall'],\n",
    "        \"f1\": report['macro avg']['f1-score'],\n",
    "        \"training_time\": training_time\n",
    "    })\n",
    "\n",
    "# ------------------- Results -------------------\n",
    "df = pd.DataFrame(results)\n",
    "print(\"\\n\\n📊 Model Comparison Results:\")\n",
    "print(df.sort_values(by='f1', ascending=False))\n",
    "\n",
    "# Optional: Plotting\n",
    "plt.figure(figsize=(10, 5))\n",
    "plt.bar(df['model'], df['f1'], color='skyblue')\n",
    "plt.title(\"Model F1 Comparison\")\n",
    "plt.ylabel(\"F1 Score\")\n",
    "plt.xticks(rotation=45)\n",
    "plt.tight_layout()\n",
    "plt.show()\n"
   ]
  }
 ],
 "metadata": {
  "kernelspec": {
   "display_name": ".venv",
   "language": "python",
   "name": "python3"
  },
  "language_info": {
   "codemirror_mode": {
    "name": "ipython",
    "version": 3
   },
   "file_extension": ".py",
   "mimetype": "text/x-python",
   "name": "python",
   "nbconvert_exporter": "python",
   "pygments_lexer": "ipython3",
   "version": "3.12.3"
  }
 },
 "nbformat": 4,
 "nbformat_minor": 5
}
