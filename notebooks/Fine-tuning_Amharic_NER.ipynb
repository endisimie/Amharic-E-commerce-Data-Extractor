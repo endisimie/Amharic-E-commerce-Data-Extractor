{
 "cells": [
  {
   "cell_type": "code",
   "execution_count": null,
   "id": "07964a18",
   "metadata": {},
   "outputs": [
    {
     "name": "stderr",
     "output_type": "stream",
     "text": [
      "Map: 100%|██████████| 22/22 [00:00<00:00, 682.11 examples/s]\n",
      "Some weights of XLMRobertaForTokenClassification were not initialized from the model checkpoint at Davlan/afro-xlmr-base and are newly initialized: ['classifier.bias', 'classifier.weight']\n",
      "You should probably TRAIN this model on a down-stream task to be able to use it for predictions and inference.\n",
      "C:\\Users\\Administrator\\AppData\\Local\\Temp\\ipykernel_21708\\3364463396.py:92: FutureWarning: `tokenizer` is deprecated and will be removed in version 5.0.0 for `Trainer.__init__`. Use `processing_class` instead.\n",
      "  trainer = Trainer(\n",
      "c:\\Users\\Administrator\\Desktop\\10 Acadamy\\week4\\Amharic-E-commerce-Data-Extractor\\.venv\\Lib\\site-packages\\torch\\utils\\data\\dataloader.py:665: UserWarning: 'pin_memory' argument is set as true but no accelerator is found, then device pinned memory won't be used.\n",
      "  warnings.warn(warn_msg)\n"
     ]
    },
    {
     "data": {
      "text/html": [
       "\n",
       "    <div>\n",
       "      \n",
       "      <progress value='10' max='10' style='width:300px; height:20px; vertical-align: middle;'></progress>\n",
       "      [10/10 01:37, Epoch 5/5]\n",
       "    </div>\n",
       "    <table border=\"1\" class=\"dataframe\">\n",
       "  <thead>\n",
       " <tr style=\"text-align: left;\">\n",
       "      <th>Step</th>\n",
       "      <th>Training Loss</th>\n",
       "    </tr>\n",
       "  </thead>\n",
       "  <tbody>\n",
       "  </tbody>\n",
       "</table><p>"
      ],
      "text/plain": [
       "<IPython.core.display.HTML object>"
      ]
     },
     "metadata": {},
     "output_type": "display_data"
    },
    {
     "name": "stderr",
     "output_type": "stream",
     "text": [
      "c:\\Users\\Administrator\\Desktop\\10 Acadamy\\week4\\Amharic-E-commerce-Data-Extractor\\.venv\\Lib\\site-packages\\torch\\utils\\data\\dataloader.py:665: UserWarning: 'pin_memory' argument is set as true but no accelerator is found, then device pinned memory won't be used.\n",
      "  warnings.warn(warn_msg)\n"
     ]
    },
    {
     "data": {
      "text/html": [],
      "text/plain": [
       "<IPython.core.display.HTML object>"
      ]
     },
     "metadata": {},
     "output_type": "display_data"
    },
    {
     "name": "stdout",
     "output_type": "stream",
     "text": [
      "Evaluation Metrics (Macro Avg):\n",
      "Precision: 1.0000\n",
      "Recall:    1.0000\n",
      "F1-score:  1.0000\n"
     ]
    }
   ],
   "source": [
    "#Fine-tune Amharic NER Model using Hugging Face Transformers\n",
    "\n",
    "import numpy as np\n",
    "import pandas as pd\n",
    "from datasets import load_dataset, ClassLabel, Dataset\n",
    "from transformers import AutoTokenizer, AutoModelForTokenClassification, DataCollatorForTokenClassification, TrainingArguments, Trainer\n",
    "from seqeval.metrics import classification_report\n",
    "from sklearn.metrics import precision_recall_fscore_support\n",
    "\n",
    "# ------------------- Load CoNLL Data -------------------\n",
    "# Replace with your labeled file\n",
    "conll_file_path = \"amharic_ner_sample.conll\"\n",
    "\n",
    "# Parse CoNLL format into a Hugging Face-compatible dataset\n",
    "def parse_conll_to_dataset(filepath):\n",
    "    sentences = []\n",
    "    labels = []\n",
    "    with open(filepath, encoding='utf-8') as f:\n",
    "        tokens = []\n",
    "        tags = []\n",
    "        for line in f:\n",
    "            if line.strip() == '':\n",
    "                if tokens:\n",
    "                    sentences.append(tokens)\n",
    "                    labels.append(tags)\n",
    "                    tokens = []\n",
    "                    tags = []\n",
    "            else:\n",
    "                splits = line.strip().split()\n",
    "                if len(splits) >= 2:\n",
    "                    tokens.append(splits[0])\n",
    "                    tags.append(splits[1])\n",
    "    return Dataset.from_dict({\"tokens\": sentences, \"ner_tags\": labels})\n",
    "\n",
    "# Load dataset\n",
    "raw_dataset = parse_conll_to_dataset(conll_file_path)\n",
    "\n",
    "# Create label list\n",
    "unique_tags = set(tag for doc in raw_dataset[\"ner_tags\"] for tag in doc)\n",
    "label_list = sorted(unique_tags)\n",
    "label2id = {label: i for i, label in enumerate(label_list)}\n",
    "id2label = {i: label for label, i in label2id.items()}\n",
    "\n",
    "# ------------------- Tokenization & Label Alignment -------------------\n",
    "tokenizer = AutoTokenizer.from_pretrained(\"Davlan/afro-xlmr-base\")  # Replace with preferred Amharic-compatible model\n",
    "\n",
    "def tokenize_and_align_labels(example):\n",
    "    tokenized_inputs = tokenizer(example[\"tokens\"], truncation=True, is_split_into_words=True)\n",
    "    word_ids = tokenized_inputs.word_ids()\n",
    "    previous_word_idx = None\n",
    "    label_ids = []\n",
    "    for word_idx in word_ids:\n",
    "        if word_idx is None:\n",
    "            label_ids.append(-100)\n",
    "        elif word_idx != previous_word_idx:\n",
    "            label_ids.append(label2id[example[\"ner_tags\"][word_idx]])\n",
    "        else:\n",
    "            tag = example[\"ner_tags\"][word_idx]\n",
    "            if tag.startswith(\"B-\"):\n",
    "                tag = tag.replace(\"B-\", \"I-\")\n",
    "            label_ids.append(label2id[tag])\n",
    "        previous_word_idx = word_idx\n",
    "    tokenized_inputs[\"labels\"] = label_ids\n",
    "    return tokenized_inputs\n",
    "\n",
    "tokenized_dataset = raw_dataset.map(tokenize_and_align_labels)\n",
    "# ------------------- Model & Training Setup -------------------\n",
    "model = AutoModelForTokenClassification.from_pretrained(\n",
    "    \"Davlan/afro-xlmr-base\",\n",
    "    num_labels=len(label_list),\n",
    "    id2label=id2label,\n",
    "    label2id=label2id\n",
    ")\n",
    "\n",
    "args = TrainingArguments(\n",
    "    output_dir=\"./amharic_ner_model\",\n",
    "    learning_rate=2e-5,\n",
    "    per_device_train_batch_size=16,\n",
    "    num_train_epochs=5,\n",
    "    weight_decay=0.01,\n",
    "    logging_dir=\"./logs\"\n",
    ")\n",
    "\n",
    "data_collator = DataCollatorForTokenClassification(tokenizer)\n",
    "\n",
    "# Split dataset (80-20 split manually)\n",
    "split = tokenized_dataset.train_test_split(test_size=0.2)\n",
    "train_dataset = split['train']\n",
    "eval_dataset = split['test']\n",
    "\n",
    "# ------------------- Trainer -------------------\n",
    "trainer = Trainer(\n",
    "    model=model,\n",
    "    args=args,\n",
    "    train_dataset=train_dataset,\n",
    "    eval_dataset=eval_dataset,\n",
    "    tokenizer=tokenizer,\n",
    "    data_collator=data_collator,\n",
    ")\n",
    "\n",
    "trainer.train()\n",
    "\n",
    "# ------------------- Evaluation -------------------\n",
    "preds, labels, _ = trainer.predict(eval_dataset)\n",
    "pred_labels = np.argmax(preds, axis=2)\n",
    "\n",
    "true_predictions = [\n",
    "    [id2label[label] for (pred, label) in zip(pred_seq, label_seq) if label != -100]\n",
    "    for pred_seq, label_seq in zip(pred_labels, labels)\n",
    "]\n",
    "\n",
    "true_labels = [\n",
    "    [id2label[label] for (pred, label) in zip(pred_seq, label_seq) if label != -100]\n",
    "    for pred_seq, label_seq in zip(pred_labels, labels)\n",
    "]\n",
    "\n",
    "report = classification_report(true_labels, true_predictions, output_dict=True)\n",
    "\n",
    "print(\"Evaluation Metrics (Macro Avg):\")\n",
    "print(f\"Precision: {report['macro avg']['precision']:.4f}\")\n",
    "print(f\"Recall:    {report['macro avg']['recall']:.4f}\")\n",
    "print(f\"F1-score:  {report['macro avg']['f1-score']:.4f}\")\n"
   ]
  },
  {
   "cell_type": "markdown",
   "id": "fd136a09",
   "metadata": {},
   "source": [
    "Save Trained model"
   ]
  },
  {
   "cell_type": "code",
   "execution_count": 16,
   "id": "d7971ed7",
   "metadata": {},
   "outputs": [
    {
     "data": {
      "text/plain": [
       "('../data/amharic_ner_model\\\\tokenizer_config.json',\n",
       " '../data/amharic_ner_model\\\\special_tokens_map.json',\n",
       " '../data/amharic_ner_model\\\\sentencepiece.bpe.model',\n",
       " '../data/amharic_ner_model\\\\added_tokens.json',\n",
       " '../data/amharic_ner_model\\\\tokenizer.json')"
      ]
     },
     "execution_count": 16,
     "metadata": {},
     "output_type": "execute_result"
    }
   ],
   "source": [
    "trainer.save_model(\"../data/amharic_ner_model\")\n",
    "tokenizer.save_pretrained(\"../data/amharic_ner_model\")\n",
    "\n"
   ]
  },
  {
   "cell_type": "markdown",
   "id": "7e3e2d80",
   "metadata": {},
   "source": [
    "Plot the evaluation metrics"
   ]
  },
  {
   "cell_type": "code",
   "execution_count": 18,
   "id": "52e7af96",
   "metadata": {},
   "outputs": [
    {
     "data": {
      "image/png": "[encoded data removed]",
      "text/plain": [
       "<Figure size 640x480 with 1 Axes>"
      ]
     },
     "metadata": {},
     "output_type": "display_data"
    }
   ],
   "source": [
    "import matplotlib.pyplot as plt\n",
    "\n",
    "metrics = ['precision', 'recall', 'f1-score']\n",
    "scores = [report['macro avg'][m] for m in metrics]\n",
    "\n",
    "plt.bar(metrics, scores, color=['skyblue', 'lightgreen', 'salmon'])\n",
    "plt.title(\"Macro Avg NER Metrics\")\n",
    "plt.ylim(0, 1)\n",
    "plt.show()\n"
   ]
  }
 ],
 "metadata": {
  "kernelspec": {
   "display_name": ".venv",
   "language": "python",
   "name": "python3"
  },
  "language_info": {
   "codemirror_mode": {
    "name": "ipython",
    "version": 3
   },
   "file_extension": ".py",
   "mimetype": "text/x-python",
   "name": "python",
   "nbconvert_exporter": "python",
   "pygments_lexer": "ipython3",
   "version": "3.12.3"
  }
 },
 "nbformat": 4,
 "nbformat_minor": 5
}
